{
 "cells": [
  {
   "cell_type": "markdown",
   "id": "0d06c113",
   "metadata": {},
   "source": [
    "# Basics of python"
   ]
  },
  {
   "cell_type": "markdown",
   "id": "356a620b",
   "metadata": {},
   "source": [
    "#basics of python"
   ]
  },
  {
   "cell_type": "markdown",
   "id": "52d75d11",
   "metadata": {},
   "source": [
    "#python"
   ]
  },
  {
   "cell_type": "markdown",
   "id": "f45f495f",
   "metadata": {},
   "source": [
    "# python"
   ]
  },
  {
   "cell_type": "markdown",
   "id": "c17c9aba",
   "metadata": {},
   "source": [
    "learn python"
   ]
  },
  {
   "cell_type": "code",
   "execution_count": 1,
   "id": "f9c23030",
   "metadata": {},
   "outputs": [],
   "source": [
    "b=9.8\n"
   ]
  },
  {
   "cell_type": "code",
   "execution_count": 2,
   "id": "3b6f6b93",
   "metadata": {},
   "outputs": [
    {
     "data": {
      "text/plain": [
       "float"
      ]
     },
     "execution_count": 2,
     "metadata": {},
     "output_type": "execute_result"
    }
   ],
   "source": [
    "type(b)"
   ]
  },
  {
   "cell_type": "code",
   "execution_count": 3,
   "id": "27bda5ca",
   "metadata": {},
   "outputs": [
    {
     "data": {
      "text/plain": [
       "2909245845520"
      ]
     },
     "execution_count": 3,
     "metadata": {},
     "output_type": "execute_result"
    }
   ],
   "source": [
    "id(b)"
   ]
  },
  {
   "cell_type": "code",
   "execution_count": 4,
   "id": "af795f8c",
   "metadata": {},
   "outputs": [
    {
     "ename": "NameError",
     "evalue": "name 'cat' is not defined",
     "output_type": "error",
     "traceback": [
      "\u001b[1;31m---------------------------------------------------------------------------\u001b[0m",
      "\u001b[1;31mNameError\u001b[0m                                 Traceback (most recent call last)",
      "Cell \u001b[1;32mIn[4], line 1\u001b[0m\n\u001b[1;32m----> 1\u001b[0m c\u001b[38;5;241m=\u001b[39m\u001b[43mcat\u001b[49m\n",
      "\u001b[1;31mNameError\u001b[0m: name 'cat' is not defined"
     ]
    }
   ],
   "source": [
    "c=cat"
   ]
  },
  {
   "cell_type": "code",
   "execution_count": 5,
   "id": "4aa9aafd",
   "metadata": {},
   "outputs": [],
   "source": [
    "c=\"cat\""
   ]
  },
  {
   "cell_type": "code",
   "execution_count": 6,
   "id": "1452f4bb",
   "metadata": {},
   "outputs": [
    {
     "data": {
      "text/plain": [
       "str"
      ]
     },
     "execution_count": 6,
     "metadata": {},
     "output_type": "execute_result"
    }
   ],
   "source": [
    "type(c)"
   ]
  },
  {
   "cell_type": "code",
   "execution_count": 7,
   "id": "c9c5f4c5",
   "metadata": {},
   "outputs": [
    {
     "data": {
      "text/plain": [
       "2909168048048"
      ]
     },
     "execution_count": 7,
     "metadata": {},
     "output_type": "execute_result"
    }
   ],
   "source": [
    "id(c)"
   ]
  },
  {
   "cell_type": "code",
   "execution_count": 8,
   "id": "55ce1b7b",
   "metadata": {},
   "outputs": [],
   "source": [
    "d='gsss'"
   ]
  },
  {
   "cell_type": "code",
   "execution_count": 9,
   "id": "abf0f798",
   "metadata": {},
   "outputs": [
    {
     "data": {
      "text/plain": [
       "str"
      ]
     },
     "execution_count": 9,
     "metadata": {},
     "output_type": "execute_result"
    }
   ],
   "source": [
    "type(d)"
   ]
  },
  {
   "cell_type": "markdown",
   "id": "a29fc4eb",
   "metadata": {},
   "source": [
    "# indexing"
   ]
  },
  {
   "cell_type": "code",
   "execution_count": 10,
   "id": "25667810",
   "metadata": {},
   "outputs": [
    {
     "ename": "NameError",
     "evalue": "name 'GSSSIETW' is not defined",
     "output_type": "error",
     "traceback": [
      "\u001b[1;31m---------------------------------------------------------------------------\u001b[0m",
      "\u001b[1;31mNameError\u001b[0m                                 Traceback (most recent call last)",
      "Cell \u001b[1;32mIn[10], line 1\u001b[0m\n\u001b[1;32m----> 1\u001b[0m k\u001b[38;5;241m=\u001b[39m\u001b[43mGSSSIETW\u001b[49m\n",
      "\u001b[1;31mNameError\u001b[0m: name 'GSSSIETW' is not defined"
     ]
    }
   ],
   "source": [
    "k=GSSSIETW"
   ]
  },
  {
   "cell_type": "code",
   "execution_count": 11,
   "id": "0a34e1d7",
   "metadata": {},
   "outputs": [],
   "source": [
    "k=\"GSSSIETW\""
   ]
  },
  {
   "cell_type": "code",
   "execution_count": 12,
   "id": "a88c1655",
   "metadata": {},
   "outputs": [
    {
     "ename": "NameError",
     "evalue": "name 's' is not defined",
     "output_type": "error",
     "traceback": [
      "\u001b[1;31m---------------------------------------------------------------------------\u001b[0m",
      "\u001b[1;31mNameError\u001b[0m                                 Traceback (most recent call last)",
      "Cell \u001b[1;32mIn[12], line 1\u001b[0m\n\u001b[1;32m----> 1\u001b[0m \u001b[43ms\u001b[49m[\u001b[38;5;241m0\u001b[39m]\n",
      "\u001b[1;31mNameError\u001b[0m: name 's' is not defined"
     ]
    }
   ],
   "source": [
    "s[0]"
   ]
  },
  {
   "cell_type": "code",
   "execution_count": 13,
   "id": "2977df31",
   "metadata": {},
   "outputs": [
    {
     "data": {
      "text/plain": [
       "'G'"
      ]
     },
     "execution_count": 13,
     "metadata": {},
     "output_type": "execute_result"
    }
   ],
   "source": [
    "k[0]"
   ]
  },
  {
   "cell_type": "code",
   "execution_count": 14,
   "id": "9147a1c9",
   "metadata": {},
   "outputs": [
    {
     "data": {
      "text/plain": [
       "'W'"
      ]
     },
     "execution_count": 14,
     "metadata": {},
     "output_type": "execute_result"
    }
   ],
   "source": [
    "k[-1]"
   ]
  },
  {
   "cell_type": "code",
   "execution_count": 15,
   "id": "6810d976",
   "metadata": {},
   "outputs": [
    {
     "data": {
      "text/plain": [
       "'GSSSIETW'"
      ]
     },
     "execution_count": 15,
     "metadata": {},
     "output_type": "execute_result"
    }
   ],
   "source": [
    "k[0:]"
   ]
  },
  {
   "cell_type": "code",
   "execution_count": 16,
   "id": "0ebad01e",
   "metadata": {},
   "outputs": [
    {
     "data": {
      "text/plain": [
       "'GST'"
      ]
     },
     "execution_count": 16,
     "metadata": {},
     "output_type": "execute_result"
    }
   ],
   "source": [
    "k[0:7:3]"
   ]
  },
  {
   "cell_type": "code",
   "execution_count": 17,
   "id": "397f5d6a",
   "metadata": {},
   "outputs": [
    {
     "data": {
      "text/plain": [
       "'ETW'"
      ]
     },
     "execution_count": 17,
     "metadata": {},
     "output_type": "execute_result"
    }
   ],
   "source": [
    "k[5:]"
   ]
  },
  {
   "cell_type": "markdown",
   "id": "5db7b7ac",
   "metadata": {},
   "source": []
  },
  {
   "cell_type": "markdown",
   "id": "443ee82b",
   "metadata": {},
   "source": [
    "built-in-functions"
   ]
  },
  {
   "cell_type": "code",
   "execution_count": 18,
   "id": "7b40ba1b",
   "metadata": {},
   "outputs": [],
   "source": [
    "s=\"PRER@GMAIL.COM\""
   ]
  },
  {
   "cell_type": "code",
   "execution_count": 19,
   "id": "d6064d5c",
   "metadata": {},
   "outputs": [
    {
     "data": {
      "text/plain": [
       "'prer@gmail.com'"
      ]
     },
     "execution_count": 19,
     "metadata": {},
     "output_type": "execute_result"
    }
   ],
   "source": [
    "s.lower()"
   ]
  },
  {
   "cell_type": "code",
   "execution_count": 20,
   "id": "b1eb9b91",
   "metadata": {},
   "outputs": [
    {
     "data": {
      "text/plain": [
       "'PRER@GMAIL.COM'"
      ]
     },
     "execution_count": 20,
     "metadata": {},
     "output_type": "execute_result"
    }
   ],
   "source": [
    "s.upper()"
   ]
  },
  {
   "cell_type": "code",
   "execution_count": 21,
   "id": "e6a4f1f5",
   "metadata": {},
   "outputs": [
    {
     "data": {
      "text/plain": [
       "'Prer@Gmail.Com'"
      ]
     },
     "execution_count": 21,
     "metadata": {},
     "output_type": "execute_result"
    }
   ],
   "source": [
    "s.title()"
   ]
  },
  {
   "cell_type": "markdown",
   "id": "d83609eb",
   "metadata": {},
   "source": [
    "# bool"
   ]
  },
  {
   "cell_type": "code",
   "execution_count": 22,
   "id": "f6fd0223",
   "metadata": {},
   "outputs": [
    {
     "data": {
      "text/plain": [
       "True"
      ]
     },
     "execution_count": 22,
     "metadata": {},
     "output_type": "execute_result"
    }
   ],
   "source": [
    "bool(-1)"
   ]
  },
  {
   "cell_type": "code",
   "execution_count": 23,
   "id": "69e92738",
   "metadata": {},
   "outputs": [],
   "source": [
    "# values other than 0 are boolean(true)"
   ]
  },
  {
   "cell_type": "code",
   "execution_count": 24,
   "id": "c158950f",
   "metadata": {},
   "outputs": [
    {
     "data": {
      "text/plain": [
       "2"
      ]
     },
     "execution_count": 24,
     "metadata": {},
     "output_type": "execute_result"
    }
   ],
   "source": [
    "bool(1)-bool(0)+bool(-1)"
   ]
  },
  {
   "cell_type": "code",
   "execution_count": 25,
   "id": "de511904",
   "metadata": {},
   "outputs": [
    {
     "data": {
      "text/plain": [
       "False"
      ]
     },
     "execution_count": 25,
     "metadata": {},
     "output_type": "execute_result"
    }
   ],
   "source": [
    "bool(0)"
   ]
  },
  {
   "cell_type": "markdown",
   "id": "36c1438c",
   "metadata": {},
   "source": [
    "# complex numbers"
   ]
  },
  {
   "cell_type": "code",
   "execution_count": 26,
   "id": "8db6dc3c",
   "metadata": {},
   "outputs": [
    {
     "ename": "SyntaxError",
     "evalue": "invalid decimal literal (2973023558.py, line 1)",
     "output_type": "error",
     "traceback": [
      "\u001b[1;36m  Cell \u001b[1;32mIn[26], line 1\u001b[1;36m\u001b[0m\n\u001b[1;33m    c=2+4i\u001b[0m\n\u001b[1;37m        ^\u001b[0m\n\u001b[1;31mSyntaxError\u001b[0m\u001b[1;31m:\u001b[0m invalid decimal literal\n"
     ]
    }
   ],
   "source": [
    "c=2+4i"
   ]
  },
  {
   "cell_type": "code",
   "execution_count": 27,
   "id": "a8ea4af8",
   "metadata": {},
   "outputs": [],
   "source": [
    "c=2+4j"
   ]
  },
  {
   "cell_type": "code",
   "execution_count": 28,
   "id": "084b954c",
   "metadata": {},
   "outputs": [
    {
     "data": {
      "text/plain": [
       "complex"
      ]
     },
     "execution_count": 28,
     "metadata": {},
     "output_type": "execute_result"
    }
   ],
   "source": [
    "type(c)"
   ]
  },
  {
   "cell_type": "code",
   "execution_count": 29,
   "id": "22dbecee",
   "metadata": {},
   "outputs": [
    {
     "data": {
      "text/plain": [
       "2.0"
      ]
     },
     "execution_count": 29,
     "metadata": {},
     "output_type": "execute_result"
    }
   ],
   "source": [
    "c.real"
   ]
  },
  {
   "cell_type": "code",
   "execution_count": 30,
   "id": "66e3ee22",
   "metadata": {},
   "outputs": [
    {
     "data": {
      "text/plain": [
       "4.0"
      ]
     },
     "execution_count": 30,
     "metadata": {},
     "output_type": "execute_result"
    }
   ],
   "source": [
    "c.imag"
   ]
  },
  {
   "cell_type": "code",
   "execution_count": 31,
   "id": "aae5fb41",
   "metadata": {},
   "outputs": [],
   "source": [
    "# use 'j' in place of 'i'"
   ]
  },
  {
   "cell_type": "markdown",
   "id": "23ede2c9",
   "metadata": {},
   "source": [
    "# type casting"
   ]
  },
  {
   "cell_type": "code",
   "execution_count": 32,
   "id": "93c3d241",
   "metadata": {},
   "outputs": [],
   "source": [
    "a=2"
   ]
  },
  {
   "cell_type": "code",
   "execution_count": 33,
   "id": "07cb6d1d",
   "metadata": {},
   "outputs": [
    {
     "data": {
      "text/plain": [
       "float"
      ]
     },
     "execution_count": 33,
     "metadata": {},
     "output_type": "execute_result"
    }
   ],
   "source": [
    "b=float(a)\n",
    "type(b)"
   ]
  },
  {
   "cell_type": "code",
   "execution_count": 34,
   "id": "9c3366eb",
   "metadata": {},
   "outputs": [],
   "source": [
    "a=10"
   ]
  },
  {
   "cell_type": "code",
   "execution_count": 35,
   "id": "13941c8f",
   "metadata": {},
   "outputs": [
    {
     "data": {
      "text/plain": [
       "float"
      ]
     },
     "execution_count": 35,
     "metadata": {},
     "output_type": "execute_result"
    }
   ],
   "source": [
    "c=int(a)\n",
    "type(b)"
   ]
  },
  {
   "cell_type": "code",
   "execution_count": 36,
   "id": "3270eeb4",
   "metadata": {},
   "outputs": [
    {
     "data": {
      "text/plain": [
       "int"
      ]
     },
     "execution_count": 36,
     "metadata": {},
     "output_type": "execute_result"
    }
   ],
   "source": [
    "c=int(a)\n",
    "type(c)"
   ]
  },
  {
   "cell_type": "code",
   "execution_count": 37,
   "id": "0d47ba24",
   "metadata": {},
   "outputs": [
    {
     "ename": "ValueError",
     "evalue": "invalid literal for int() with base 10: 'ten'",
     "output_type": "error",
     "traceback": [
      "\u001b[1;31m---------------------------------------------------------------------------\u001b[0m",
      "\u001b[1;31mValueError\u001b[0m                                Traceback (most recent call last)",
      "Cell \u001b[1;32mIn[37], line 2\u001b[0m\n\u001b[0;32m      1\u001b[0m a\u001b[38;5;241m=\u001b[39m\u001b[38;5;124m\"\u001b[39m\u001b[38;5;124mten\u001b[39m\u001b[38;5;124m\"\u001b[39m\n\u001b[1;32m----> 2\u001b[0m b\u001b[38;5;241m=\u001b[39m\u001b[38;5;28;43mint\u001b[39;49m\u001b[43m(\u001b[49m\u001b[43ma\u001b[49m\u001b[43m)\u001b[49m\n\u001b[0;32m      3\u001b[0m \u001b[38;5;28mtype\u001b[39m(b)\n",
      "\u001b[1;31mValueError\u001b[0m: invalid literal for int() with base 10: 'ten'"
     ]
    }
   ],
   "source": [
    "a=\"ten\"\n",
    "b=int(a)\n",
    "type(b)"
   ]
  },
  {
   "cell_type": "markdown",
   "id": "1fd7d94a",
   "metadata": {},
   "source": [
    "# fundamentals"
   ]
  },
  {
   "cell_type": "code",
   "execution_count": 38,
   "id": "714231ff",
   "metadata": {},
   "outputs": [
    {
     "ename": "SyntaxError",
     "evalue": "invalid syntax (3197885432.py, line 3)",
     "output_type": "error",
     "traceback": [
      "\u001b[1;36m  Cell \u001b[1;32mIn[38], line 3\u001b[1;36m\u001b[0m\n\u001b[1;33m    add a+b\u001b[0m\n\u001b[1;37m        ^\u001b[0m\n\u001b[1;31mSyntaxError\u001b[0m\u001b[1;31m:\u001b[0m invalid syntax\n"
     ]
    }
   ],
   "source": [
    "a='2'\n",
    "b='4'\n",
    "add a+b\n",
    "print(add)"
   ]
  },
  {
   "cell_type": "code",
   "execution_count": 39,
   "id": "33833406",
   "metadata": {},
   "outputs": [
    {
     "name": "stdout",
     "output_type": "stream",
     "text": [
      "24\n"
     ]
    }
   ],
   "source": [
    "a='2'\n",
    "b='4'\n",
    "add=a+b\n",
    "print(add)"
   ]
  },
  {
   "cell_type": "code",
   "execution_count": 40,
   "id": "7ad2c9a5",
   "metadata": {},
   "outputs": [
    {
     "name": "stdout",
     "output_type": "stream",
     "text": [
      "6\n"
     ]
    }
   ],
   "source": [
    "a='2'\n",
    "b='4'\n",
    "add=int(a)+int(b)\n",
    "print(add)"
   ]
  },
  {
   "cell_type": "code",
   "execution_count": 41,
   "id": "4810dbb2",
   "metadata": {},
   "outputs": [
    {
     "name": "stdout",
     "output_type": "stream",
     "text": [
      "5\n",
      "6\n",
      "11\n"
     ]
    }
   ],
   "source": [
    "a=int(input())\n",
    "b=int(input())\n",
    "add=a+b\n",
    "print(add)"
   ]
  },
  {
   "cell_type": "code",
   "execution_count": 42,
   "id": "5633bc9a",
   "metadata": {},
   "outputs": [
    {
     "name": "stdout",
     "output_type": "stream",
     "text": [
      "enter value of a6\n",
      "enter value of b56\n",
      "sum= 62\n"
     ]
    }
   ],
   "source": [
    "a=int(input(\"enter value of a\"))\n",
    "b=int(input(\"enter value of b\"))\n",
    "add=a+b\n",
    "print(\"sum=\",add)"
   ]
  },
  {
   "cell_type": "code",
   "execution_count": 44,
   "id": "8a29140b",
   "metadata": {},
   "outputs": [
    {
     "name": "stdout",
     "output_type": "stream",
     "text": [
      "enter value of a56\n",
      "enter value of b98\n",
      "sum=154\n"
     ]
    }
   ],
   "source": [
    "a=int(input(\"enter value of a\"))\n",
    "b=int(input(\"enter value of b\"))\n",
    "add=a+b\n",
    "print(\"sum=\",add,sep=\"\")"
   ]
  },
  {
   "cell_type": "code",
   "execution_count": 55,
   "id": "063a07de",
   "metadata": {},
   "outputs": [
    {
     "ename": "SyntaxError",
     "evalue": "positional argument follows keyword argument (2090936304.py, line 9)",
     "output_type": "error",
     "traceback": [
      "\u001b[1;36m  Cell \u001b[1;32mIn[55], line 9\u001b[1;36m\u001b[0m\n\u001b[1;33m    print (sub= \"%d\" ,prod=\"%d\",sub,prod)\u001b[0m\n\u001b[1;37m                                        ^\u001b[0m\n\u001b[1;31mSyntaxError\u001b[0m\u001b[1;31m:\u001b[0m positional argument follows keyword argument\n"
     ]
    }
   ],
   "source": [
    "a=int(input(\"enter value of a\"))\n",
    "b=int(input(\"enter value of b\"))\n",
    "add=a+b\n",
    "sub=a-b\n",
    "prod=a*b\n",
    "div=a/b\n",
    "rem=a%b\n",
    "print(\"sum= \",add,sep=\"\")\n",
    "print (sub= \"%d\" ,prod=\"%d\",sub,prod)\n"
   ]
  },
  {
   "cell_type": "code",
   "execution_count": 52,
   "id": "b85d70b3",
   "metadata": {},
   "outputs": [
    {
     "name": "stdout",
     "output_type": "stream",
     "text": [
      "enter your first name:prerana\n",
      "enter your last name:an\n",
      "enter your fav no:8\n",
      "preranaan13@gmail.com\n"
     ]
    }
   ],
   "source": [
    "fname=(input(\"enter your first name:\"))\n",
    "lname=(input(\"enter your last name:\"))\n",
    "fav_no=int(input(\"enter your fav no:\"))\n",
    "fav_no=fav_no+5\n",
    "fav_no=str(fav_no)\n",
    "output=fname.lower()+lname.lower()+fav_no+\"@gmail.com\"\n",
    "print(output)"
   ]
  },
  {
   "cell_type": "code",
   "execution_count": 56,
   "id": "06881bbe",
   "metadata": {},
   "outputs": [],
   "source": [
    "#swapping two numbers without using third variable"
   ]
  },
  {
   "cell_type": "code",
   "execution_count": 2,
   "id": "1d2f13b9",
   "metadata": {},
   "outputs": [
    {
     "name": "stdout",
     "output_type": "stream",
     "text": [
      "enter value of a:12\n",
      "enter value of b:34\n",
      "a= 34\n",
      "b= 12\n"
     ]
    }
   ],
   "source": [
    "a=int(input(\"enter value of a:\"))\n",
    "b=int(input(\"enter value of b:\"))\n",
    "a=a+b # 12+34=46\n",
    "b=a-b # 46-34=12\n",
    "a=a-b # 46-12=34\n",
    "print(\"a=\",a)\n",
    "print(\"b=\",b)"
   ]
  },
  {
   "cell_type": "code",
   "execution_count": 4,
   "id": "cd29c410",
   "metadata": {},
   "outputs": [
    {
     "name": "stdout",
     "output_type": "stream",
     "text": [
      "enter value of a50\n",
      "enter value of b100\n",
      "100.0\n",
      "50.0\n"
     ]
    }
   ],
   "source": [
    "a=int(input(\"enter value of a\"))\n",
    "b=int(input(\"enter value of b\"))\n",
    "a=a*b\n",
    "b=a/b\n",
    "a=a/b\n",
    "print(a)\n",
    "print(b)"
   ]
  },
  {
   "cell_type": "code",
   "execution_count": 5,
   "id": "835ca153",
   "metadata": {},
   "outputs": [
    {
     "name": "stdout",
     "output_type": "stream",
     "text": [
      "enter value of a10\n",
      "enter value of b30\n",
      "a:  30\n",
      "b: 10\n"
     ]
    }
   ],
   "source": [
    "a=int(input(\"enter value of a\"))\n",
    "b=int(input(\"enter value of b\"))\n",
    "a=a^b\n",
    "b=a^b\n",
    "a=a^b\n",
    "print(\"a: \",a)\n",
    "print(\"b:\",b)"
   ]
  },
  {
   "cell_type": "code",
   "execution_count": null,
   "id": "844268a0",
   "metadata": {},
   "outputs": [],
   "source": [
    "# conditional statements"
   ]
  },
  {
   "cell_type": "code",
   "execution_count": 9,
   "id": "aea166e6",
   "metadata": {},
   "outputs": [
    {
     "name": "stdout",
     "output_type": "stream",
     "text": [
      "enter value of a:7\n",
      "enter value of b:9\n",
      "enter operator:-\n",
      "diff=  -2\n"
     ]
    }
   ],
   "source": [
    "a=int(input(\"enter value of a:\"))\n",
    "b=int(input(\"enter value of b:\"))\n",
    "op=input(\"enter operator:\")\n",
    "if op==\"+\":\n",
    "    print(\"sum= \",a+b)\n",
    "elif op==\"-\":\n",
    "    print(\"diff= \",a-b)\n",
    "elif op==\"*\":\n",
    "    print(\"prod= \",a*b)\n",
    "elif op==\"/\":\n",
    "    print(\"div= \",a/b)\n",
    "else:\n",
    "    print(\"invalid\")\n",
    "\n",
    "    "
   ]
  },
  {
   "cell_type": "code",
   "execution_count": 10,
   "id": "6d472f61",
   "metadata": {},
   "outputs": [],
   "source": [
    "#loops"
   ]
  },
  {
   "cell_type": "code",
   "execution_count": 11,
   "id": "5244fea5",
   "metadata": {},
   "outputs": [
    {
     "name": "stdout",
     "output_type": "stream",
     "text": [
      "10\n",
      "9\n",
      "8\n",
      "7\n",
      "6\n",
      "5\n",
      "4\n",
      "3\n",
      "2\n",
      "1\n"
     ]
    }
   ],
   "source": [
    "a=10\n",
    "while a>0:\n",
    "    print(a)\n",
    "    a=a-1"
   ]
  },
  {
   "cell_type": "code",
   "execution_count": 12,
   "id": "4ac6386e",
   "metadata": {},
   "outputs": [
    {
     "name": "stdout",
     "output_type": "stream",
     "text": [
      "10\n",
      "9\n",
      "8\n",
      "7\n",
      "6\n",
      "5\n",
      "4\n",
      "3\n",
      "2\n",
      "1\n"
     ]
    }
   ],
   "source": [
    "import time\n",
    "a=10\n",
    "while a>0:\n",
    "    print(a)\n",
    "    a=a-1\n",
    "    time.sleep(5) # waits for 5sec before printing"
   ]
  },
  {
   "cell_type": "code",
   "execution_count": 13,
   "id": "c797dae7",
   "metadata": {},
   "outputs": [
    {
     "name": "stdout",
     "output_type": "stream",
     "text": [
      "10\n"
     ]
    }
   ],
   "source": [
    "a=10\n",
    "while a>0:\n",
    "    print(a)\n",
    "    a=a-1\n",
    "    break"
   ]
  },
  {
   "cell_type": "code",
   "execution_count": 14,
   "id": "e5a5b018",
   "metadata": {},
   "outputs": [
    {
     "name": "stdout",
     "output_type": "stream",
     "text": [
      "10\n",
      "9\n",
      "8\n",
      "7\n",
      "6\n",
      "5\n",
      "4\n",
      "3\n",
      "2\n",
      "1\n"
     ]
    }
   ],
   "source": [
    "a=10\n",
    "while a>0:\n",
    "    print(a)\n",
    "    a=a-1\n",
    "    continue"
   ]
  },
  {
   "cell_type": "code",
   "execution_count": 20,
   "id": "e6172aa0",
   "metadata": {},
   "outputs": [
    {
     "name": "stdout",
     "output_type": "stream",
     "text": [
      "10\n",
      "9\n",
      "8\n",
      "7\n",
      "6\n"
     ]
    }
   ],
   "source": [
    "a=10\n",
    "while a>0:\n",
    "    print(a)\n",
    "    a=a-1\n",
    "    if a>5:\n",
    "        continue\n",
    "    break\n",
    "    "
   ]
  },
  {
   "cell_type": "code",
   "execution_count": 21,
   "id": "bfd8fd7e",
   "metadata": {},
   "outputs": [],
   "source": [
    "a=5\n",
    "if a>2:\n",
    "    pass\n",
    "else:\n",
    "    print(\"hello\")"
   ]
  },
  {
   "cell_type": "code",
   "execution_count": 19,
   "id": "5276e841",
   "metadata": {},
   "outputs": [
    {
     "name": "stdout",
     "output_type": "stream",
     "text": [
      "enter value of a:4\n",
      "enter value of b:9\n",
      "enter operator:\n",
      "invalid\n",
      "do you want to continue?y/nY\n",
      "enter value of a:45\n",
      "enter value of b:78\n",
      "enter operator:*\n",
      "prod=  3510\n",
      "do you want to continue?y/nN\n"
     ]
    }
   ],
   "source": [
    "while True:\n",
    "    a=int(input(\"enter value of a:\"))\n",
    "    b=int(input(\"enter value of b:\"))\n",
    "    op=input(\"enter operator:\")\n",
    "    if op==\"+\":\n",
    "        print(\"sum= \",a+b)\n",
    "    elif op==\"-\":\n",
    "        print(\"diff= \",a-b)\n",
    "    elif op==\"*\":\n",
    "        print(\"prod= \",a*b)\n",
    "    elif op==\"/\":\n",
    "        print(\"div= \",a/b)\n",
    "    else:\n",
    "        print(\"invalid\")\n",
    "    c=input(\"do you want to continue?y/n\")\n",
    "    if c==\"y\" or c==\"Y\":\n",
    "        continue\n",
    "    elif c==\"n\"or c==\"N\":\n",
    "        break\n",
    "    else:\n",
    "        print(\"invalid input\")\n",
    "    \n"
   ]
  },
  {
   "cell_type": "code",
   "execution_count": 23,
   "id": "438315bd",
   "metadata": {},
   "outputs": [
    {
     "ename": "SyntaxError",
     "evalue": "'continue' not properly in loop (3022194677.py, line 3)",
     "output_type": "error",
     "traceback": [
      "\u001b[1;36m  Cell \u001b[1;32mIn[23], line 3\u001b[1;36m\u001b[0m\n\u001b[1;33m    continue\u001b[0m\n\u001b[1;37m    ^\u001b[0m\n\u001b[1;31mSyntaxError\u001b[0m\u001b[1;31m:\u001b[0m 'continue' not properly in loop\n"
     ]
    }
   ],
   "source": [
    "a=5\n",
    "if a>2:\n",
    "    continue # used inside loops only\n",
    "else:\n",
    "    print(\"hello\")"
   ]
  },
  {
   "cell_type": "code",
   "execution_count": 24,
   "id": "5515c6ea",
   "metadata": {},
   "outputs": [],
   "source": [
    "#for loop"
   ]
  },
  {
   "cell_type": "code",
   "execution_count": 27,
   "id": "e0e4ed19",
   "metadata": {},
   "outputs": [],
   "source": [
    "a=range(1,5)"
   ]
  },
  {
   "cell_type": "code",
   "execution_count": 28,
   "id": "bae1338c",
   "metadata": {},
   "outputs": [
    {
     "name": "stdout",
     "output_type": "stream",
     "text": [
      "range(1, 5)\n"
     ]
    }
   ],
   "source": [
    "print(a)"
   ]
  },
  {
   "cell_type": "code",
   "execution_count": 29,
   "id": "4c69a624",
   "metadata": {},
   "outputs": [
    {
     "name": "stdout",
     "output_type": "stream",
     "text": [
      "range(2, 8)\n"
     ]
    }
   ],
   "source": [
    "b=range(2,8)\n",
    "print(b)"
   ]
  },
  {
   "cell_type": "code",
   "execution_count": 30,
   "id": "933c01bb",
   "metadata": {},
   "outputs": [
    {
     "name": "stdout",
     "output_type": "stream",
     "text": [
      "1\n",
      "2\n",
      "3\n",
      "4\n"
     ]
    }
   ],
   "source": [
    "a=range(1,5)\n",
    "for i in a:\n",
    "    print(i)"
   ]
  },
  {
   "cell_type": "code",
   "execution_count": 33,
   "id": "d41946ae",
   "metadata": {},
   "outputs": [
    {
     "name": "stdout",
     "output_type": "stream",
     "text": [
      "01234"
     ]
    }
   ],
   "source": [
    "a=range(5)\n",
    "for i in a:\n",
    "    print(i,end=\"\")"
   ]
  },
  {
   "cell_type": "code",
   "execution_count": 34,
   "id": "f5a57dfc",
   "metadata": {},
   "outputs": [
    {
     "name": "stdout",
     "output_type": "stream",
     "text": [
      "0\n",
      "1\n",
      "2\n",
      "3\n",
      "4\n",
      "5\n",
      "6\n"
     ]
    }
   ],
   "source": [
    "import time\n",
    "a=range(7)\n",
    "for i in a:\n",
    "    print(i)\n",
    "    time.sleep(4)"
   ]
  },
  {
   "cell_type": "code",
   "execution_count": 35,
   "id": "25caabb5",
   "metadata": {},
   "outputs": [
    {
     "name": "stdout",
     "output_type": "stream",
     "text": [
      "G\n",
      "S\n",
      "S\n",
      "S\n",
      "I\n",
      "E\n",
      "T\n",
      "W\n"
     ]
    }
   ],
   "source": [
    "import time\n",
    "for i in \"GSSSIETW\":\n",
    "    print(i)\n",
    "    time.sleep(2)"
   ]
  },
  {
   "cell_type": "code",
   "execution_count": 36,
   "id": "858f655b",
   "metadata": {},
   "outputs": [],
   "source": [
    "# print pattern\n",
    "# *****\n",
    "# *****\n",
    "# *****\n",
    "# *****\n",
    "# *****"
   ]
  },
  {
   "cell_type": "code",
   "execution_count": 42,
   "id": "f5225fc3",
   "metadata": {},
   "outputs": [
    {
     "name": "stdout",
     "output_type": "stream",
     "text": [
      "enter the rows:10\n",
      "* * * * * * * * * * \n",
      "* * * * * * * * * * \n",
      "* * * * * * * * * * \n",
      "* * * * * * * * * * \n",
      "* * * * * * * * * * \n",
      "* * * * * * * * * * \n",
      "* * * * * * * * * * \n",
      "* * * * * * * * * * \n",
      "* * * * * * * * * * \n",
      "* * * * * * * * * * \n"
     ]
    }
   ],
   "source": [
    "a= int(input(\"enter the rows:\"))\n",
    "for i in range(1,a+1):\n",
    "    print(\"* \"*a)"
   ]
  },
  {
   "cell_type": "code",
   "execution_count": 43,
   "id": "dc784332",
   "metadata": {},
   "outputs": [],
   "source": [
    "# type 2\n",
    "# 11111\n",
    "# 22222\n",
    "# 33333\n",
    "# 44444\n",
    "# 55555"
   ]
  },
  {
   "cell_type": "code",
   "execution_count": 45,
   "id": "776dd409",
   "metadata": {},
   "outputs": [
    {
     "name": "stdout",
     "output_type": "stream",
     "text": [
      "enter the rows:5\n",
      "11111\n",
      "22222\n",
      "33333\n",
      "44444\n",
      "55555\n"
     ]
    }
   ],
   "source": [
    "a= int(input(\"enter the rows:\"))\n",
    "for i in range(1,a+1):\n",
    "    for j in range(1,a+1):\n",
    "        print(i,end=\"\")\n",
    "    print()"
   ]
  },
  {
   "cell_type": "code",
   "execution_count": 46,
   "id": "cc15e9af",
   "metadata": {},
   "outputs": [
    {
     "name": "stdout",
     "output_type": "stream",
     "text": [
      "enter the rows:7\n",
      "1234567\n",
      "1234567\n",
      "1234567\n",
      "1234567\n",
      "1234567\n",
      "1234567\n",
      "1234567\n"
     ]
    }
   ],
   "source": [
    "a= int(input(\"enter the rows:\"))\n",
    "for i in range(1,a+1):\n",
    "    for j in range(1,a+1):\n",
    "        print(j,end=\"\")\n",
    "    print()"
   ]
  },
  {
   "cell_type": "code",
   "execution_count": 51,
   "id": "42dc591a",
   "metadata": {},
   "outputs": [
    {
     "ename": "IndentationError",
     "evalue": "unindent does not match any outer indentation level (<tokenize>, line 5)",
     "output_type": "error",
     "traceback": [
      "\u001b[1;36m  File \u001b[1;32m<tokenize>:5\u001b[1;36m\u001b[0m\n\u001b[1;33m    for j in range(1,a+1):\u001b[0m\n\u001b[1;37m    ^\u001b[0m\n\u001b[1;31mIndentationError\u001b[0m\u001b[1;31m:\u001b[0m unindent does not match any outer indentation level\n"
     ]
    }
   ],
   "source": [
    "a= int(input(\"enter the rows:\"))\n",
    "for i in range(1,a+1):\n",
    "        print(i,end=\"\")\n",
    "        print()\n",
    "    for j in range(1,a+1):\n",
    "        print(j,end=\"\")\n",
    "    print()"
   ]
  },
  {
   "cell_type": "code",
   "execution_count": 56,
   "id": "13f7610a",
   "metadata": {},
   "outputs": [
    {
     "name": "stdout",
     "output_type": "stream",
     "text": [
      "enter the rows:5\n",
      "AAAAA\n",
      "BBBBB\n",
      "CCCCC\n",
      "DDDDD\n",
      "EEEEE\n"
     ]
    }
   ],
   "source": [
    "a= int(input(\"enter the rows:\"))\n",
    "for i in range(1,a+1):\n",
    "    for j in range(1,a+1):\n",
    "        print(chr(64+i),end=\"\")\n",
    "    print()"
   ]
  },
  {
   "cell_type": "code",
   "execution_count": 53,
   "id": "e52243e3",
   "metadata": {},
   "outputs": [
    {
     "data": {
      "text/plain": [
       "65"
      ]
     },
     "execution_count": 53,
     "metadata": {},
     "output_type": "execute_result"
    }
   ],
   "source": [
    "# to find ascii value\n",
    "ord('A')"
   ]
  },
  {
   "cell_type": "code",
   "execution_count": 54,
   "id": "d42db9ae",
   "metadata": {},
   "outputs": [
    {
     "data": {
      "text/plain": [
       "'B'"
      ]
     },
     "execution_count": 54,
     "metadata": {},
     "output_type": "execute_result"
    }
   ],
   "source": [
    "chr(66)"
   ]
  },
  {
   "cell_type": "code",
   "execution_count": 59,
   "id": "02864142",
   "metadata": {},
   "outputs": [
    {
     "name": "stdout",
     "output_type": "stream",
     "text": [
      "enter the rows:7\n",
      "abcdefg\n",
      "abcdefg\n",
      "abcdefg\n",
      "abcdefg\n",
      "abcdefg\n",
      "abcdefg\n",
      "abcdefg\n"
     ]
    }
   ],
   "source": [
    "a= int(input(\"enter the rows:\"))\n",
    "for i in range(1,a+1):\n",
    "    for j in range(1,a+1):\n",
    "        print(chr(96+j),end=\"\")\n",
    "    print()"
   ]
  },
  {
   "cell_type": "code",
   "execution_count": 60,
   "id": "cc4890f1",
   "metadata": {},
   "outputs": [],
   "source": [
    "# type3\n",
    "# *\n",
    "# **\n",
    "# ***\n",
    "# ****\n",
    "# *****"
   ]
  },
  {
   "cell_type": "code",
   "execution_count": 63,
   "id": "8c1c0912",
   "metadata": {},
   "outputs": [
    {
     "name": "stdout",
     "output_type": "stream",
     "text": [
      "enter the rows:5\n",
      "*  \n",
      "*  *  \n",
      "*  *  *  \n",
      "*  *  *  *  \n",
      "*  *  *  *  *  \n"
     ]
    }
   ],
   "source": [
    "a= int(input(\"enter the rows:\"))\n",
    "for i in range(1,a+1):\n",
    "    for j in range(1,i+1):\n",
    "        print(\"*\",end=\"  \")\n",
    "    print()"
   ]
  },
  {
   "cell_type": "code",
   "execution_count": 64,
   "id": "fdc70097",
   "metadata": {},
   "outputs": [
    {
     "name": "stdout",
     "output_type": "stream",
     "text": [
      "enter the rows:6\n",
      "A  \n",
      "B  B  \n",
      "C  C  C  \n",
      "D  D  D  D  \n",
      "E  E  E  E  E  \n",
      "F  F  F  F  F  F  \n"
     ]
    }
   ],
   "source": [
    "a= int(input(\"enter the rows:\"))\n",
    "for i in range(1,a+1):\n",
    "    for j in range(1,i+1):\n",
    "        print(chr(64+i),end=\"  \")\n",
    "    print()"
   ]
  },
  {
   "cell_type": "code",
   "execution_count": 65,
   "id": "24876715",
   "metadata": {},
   "outputs": [],
   "source": [
    "# type 4- reverse triangle\n"
   ]
  },
  {
   "cell_type": "code",
   "execution_count": 67,
   "id": "f62024bf",
   "metadata": {},
   "outputs": [
    {
     "name": "stdout",
     "output_type": "stream",
     "text": [
      "enter the rows:5\n",
      "*  *  *  *  *  \n",
      "*  *  *  *  \n",
      "*  *  *  \n",
      "*  *  \n",
      "*  \n"
     ]
    }
   ],
   "source": [
    "a= int(input(\"enter the rows:\"))\n",
    "for i in range(1,a+1):\n",
    "    for j in range(1,a+2-i):\n",
    "        print(\"*\",end=\"  \")\n",
    "    print()"
   ]
  },
  {
   "cell_type": "code",
   "execution_count": 71,
   "id": "1224231c",
   "metadata": {},
   "outputs": [
    {
     "name": "stdout",
     "output_type": "stream",
     "text": [
      "enter the rows:5\n",
      "EEEEE\n",
      "DDDD\n",
      "CCC\n",
      "BB\n",
      "A\n"
     ]
    }
   ],
   "source": [
    "a= int(input(\"enter the rows:\"))\n",
    "for i in range(1,a+1):\n",
    "    for j in range(1,a+2-i):\n",
    "        print(chr(70-i),end=\"\")\n",
    "    print()"
   ]
  },
  {
   "cell_type": "code",
   "execution_count": 72,
   "id": "778ebc4c",
   "metadata": {},
   "outputs": [],
   "source": [
    "# functions"
   ]
  },
  {
   "cell_type": "code",
   "execution_count": 75,
   "id": "d998e64d",
   "metadata": {},
   "outputs": [],
   "source": [
    "def DisplayMz():\n",
    "    print(\"hello welcome\")\n",
    "    print(\"learn python by coding\")"
   ]
  },
  {
   "cell_type": "code",
   "execution_count": 76,
   "id": "22d3bf31",
   "metadata": {},
   "outputs": [
    {
     "name": "stdout",
     "output_type": "stream",
     "text": [
      "hello welcome\n",
      "learn python by coding\n"
     ]
    }
   ],
   "source": [
    "DisplayMz()"
   ]
  },
  {
   "cell_type": "code",
   "execution_count": 77,
   "id": "3694ba46",
   "metadata": {},
   "outputs": [],
   "source": [
    "def DisplayMz(GSSS):\n",
    "    print(\"hello welcome\")\n",
    "    print(\"learn python by coding\")"
   ]
  },
  {
   "cell_type": "code",
   "execution_count": 78,
   "id": "760aa6d8",
   "metadata": {},
   "outputs": [
    {
     "ename": "TypeError",
     "evalue": "DisplayMz() missing 1 required positional argument: 'GSSS'",
     "output_type": "error",
     "traceback": [
      "\u001b[1;31m---------------------------------------------------------------------------\u001b[0m",
      "\u001b[1;31mTypeError\u001b[0m                                 Traceback (most recent call last)",
      "Cell \u001b[1;32mIn[78], line 1\u001b[0m\n\u001b[1;32m----> 1\u001b[0m \u001b[43mDisplayMz\u001b[49m\u001b[43m(\u001b[49m\u001b[43m)\u001b[49m\n",
      "\u001b[1;31mTypeError\u001b[0m: DisplayMz() missing 1 required positional argument: 'GSSS'"
     ]
    }
   ],
   "source": [
    "DisplayMz()"
   ]
  },
  {
   "cell_type": "code",
   "execution_count": 82,
   "id": "404d4129",
   "metadata": {},
   "outputs": [],
   "source": [
    " def DisplayMz(college):\n",
    "        print(\"hello\",college, \"welcome\")\n",
    "        print(\"learn python by coding\")\n",
    "        \n"
   ]
  },
  {
   "cell_type": "code",
   "execution_count": 84,
   "id": "fee4374c",
   "metadata": {},
   "outputs": [
    {
     "name": "stdout",
     "output_type": "stream",
     "text": [
      "hello GSSS welcome\n",
      "learn python by coding\n"
     ]
    }
   ],
   "source": [
    "DisplayMz(\"GSSS\")"
   ]
  },
  {
   "cell_type": "code",
   "execution_count": null,
   "id": "c74819f0",
   "metadata": {},
   "outputs": [],
   "source": [
    "def add(a,b):\n",
    "    sum=a+b\n",
    "    print('sum:',sum)\n"
   ]
  },
  {
   "cell_type": "code",
   "execution_count": null,
   "id": "112c14e6",
   "metadata": {},
   "outputs": [],
   "source": [
    "add(5,10)"
   ]
  },
  {
   "cell_type": "code",
   "execution_count": 1,
   "id": "b4f82018",
   "metadata": {},
   "outputs": [],
   "source": [
    "def add(a,b):# inside function\n",
    "    sum=a+b\n",
    "    print('sum:',sum)"
   ]
  },
  {
   "cell_type": "code",
   "execution_count": 2,
   "id": "36b1f0ed",
   "metadata": {},
   "outputs": [
    {
     "name": "stdout",
     "output_type": "stream",
     "text": [
      "sum: 15\n"
     ]
    }
   ],
   "source": [
    "add(5,10)"
   ]
  },
  {
   "cell_type": "code",
   "execution_count": 3,
   "id": "c1515c73",
   "metadata": {},
   "outputs": [
    {
     "name": "stdout",
     "output_type": "stream",
     "text": [
      "enter first value4\n",
      "enter second value7\n",
      "sum= 11\n"
     ]
    }
   ],
   "source": [
    "def add(a,b):#\n",
    "    print(\"sum=\",a+b)\n",
    "x=int(input(\"enter first value:\"))\n",
    "y=int(input(\"enter second value:\"))\n",
    "add(x,y)"
   ]
  },
  {
   "cell_type": "code",
   "execution_count": 4,
   "id": "f5f6c263",
   "metadata": {},
   "outputs": [],
   "source": [
    "# to print calender "
   ]
  },
  {
   "cell_type": "code",
   "execution_count": 7,
   "id": "38ae5a42",
   "metadata": {},
   "outputs": [
    {
     "name": "stdout",
     "output_type": "stream",
     "text": [
      "enter the year:2023\n",
      "enter the month:7\n",
      "     July 2023\n",
      "Mo Tu We Th Fr Sa Su\n",
      "                1  2\n",
      " 3  4  5  6  7  8  9\n",
      "10 11 12 13 14 15 16\n",
      "17 18 19 20 21 22 23\n",
      "24 25 26 27 28 29 30\n",
      "31\n",
      "\n",
      "                                  2023\n",
      "\n",
      "      January                   February                   March\n",
      "Mo Tu We Th Fr Sa Su      Mo Tu We Th Fr Sa Su      Mo Tu We Th Fr Sa Su\n",
      "                   1             1  2  3  4  5             1  2  3  4  5\n",
      " 2  3  4  5  6  7  8       6  7  8  9 10 11 12       6  7  8  9 10 11 12\n",
      " 9 10 11 12 13 14 15      13 14 15 16 17 18 19      13 14 15 16 17 18 19\n",
      "16 17 18 19 20 21 22      20 21 22 23 24 25 26      20 21 22 23 24 25 26\n",
      "23 24 25 26 27 28 29      27 28                     27 28 29 30 31\n",
      "30 31\n",
      "\n",
      "       April                      May                       June\n",
      "Mo Tu We Th Fr Sa Su      Mo Tu We Th Fr Sa Su      Mo Tu We Th Fr Sa Su\n",
      "                1  2       1  2  3  4  5  6  7                1  2  3  4\n",
      " 3  4  5  6  7  8  9       8  9 10 11 12 13 14       5  6  7  8  9 10 11\n",
      "10 11 12 13 14 15 16      15 16 17 18 19 20 21      12 13 14 15 16 17 18\n",
      "17 18 19 20 21 22 23      22 23 24 25 26 27 28      19 20 21 22 23 24 25\n",
      "24 25 26 27 28 29 30      29 30 31                  26 27 28 29 30\n",
      "\n",
      "        July                     August                  September\n",
      "Mo Tu We Th Fr Sa Su      Mo Tu We Th Fr Sa Su      Mo Tu We Th Fr Sa Su\n",
      "                1  2          1  2  3  4  5  6                   1  2  3\n",
      " 3  4  5  6  7  8  9       7  8  9 10 11 12 13       4  5  6  7  8  9 10\n",
      "10 11 12 13 14 15 16      14 15 16 17 18 19 20      11 12 13 14 15 16 17\n",
      "17 18 19 20 21 22 23      21 22 23 24 25 26 27      18 19 20 21 22 23 24\n",
      "24 25 26 27 28 29 30      28 29 30 31               25 26 27 28 29 30\n",
      "31\n",
      "\n",
      "      October                   November                  December\n",
      "Mo Tu We Th Fr Sa Su      Mo Tu We Th Fr Sa Su      Mo Tu We Th Fr Sa Su\n",
      "                   1             1  2  3  4  5                   1  2  3\n",
      " 2  3  4  5  6  7  8       6  7  8  9 10 11 12       4  5  6  7  8  9 10\n",
      " 9 10 11 12 13 14 15      13 14 15 16 17 18 19      11 12 13 14 15 16 17\n",
      "16 17 18 19 20 21 22      20 21 22 23 24 25 26      18 19 20 21 22 23 24\n",
      "23 24 25 26 27 28 29      27 28 29 30               25 26 27 28 29 30 31\n",
      "30 31\n",
      "\n"
     ]
    }
   ],
   "source": [
    "import calendar\n",
    "y=int(input (\"enter the year:\"))\n",
    "m=int(input (\"enter the month:\"))\n",
    "print(calendar.month(y,m))\n",
    "print(calendar.calendar(y))"
   ]
  },
  {
   "cell_type": "code",
   "execution_count": 10,
   "id": "1ebe0ec9",
   "metadata": {},
   "outputs": [
    {
     "name": "stdout",
     "output_type": "stream",
     "text": [
      "2023-07-24 12:42:00.992348\n"
     ]
    }
   ],
   "source": [
    "import datetime\n",
    "print(datetime.datetime.now())"
   ]
  },
  {
   "cell_type": "code",
   "execution_count": 11,
   "id": "4cfe4dc9",
   "metadata": {},
   "outputs": [],
   "source": [
    "#otp generator"
   ]
  },
  {
   "cell_type": "code",
   "execution_count": 12,
   "id": "9d56d2c7",
   "metadata": {},
   "outputs": [
    {
     "name": "stdout",
     "output_type": "stream",
     "text": [
      "23506"
     ]
    }
   ],
   "source": [
    "import random\n",
    "for i in range(5):\n",
    "    print(random.randint(0,9),end='')  #to get 5 digit"
   ]
  },
  {
   "cell_type": "code",
   "execution_count": 13,
   "id": "393f9b61",
   "metadata": {},
   "outputs": [
    {
     "name": "stdout",
     "output_type": "stream",
     "text": [
      "11455425"
     ]
    }
   ],
   "source": [
    "import random\n",
    "for i in range(8):\n",
    "    print(random.randint(0,5),end='')"
   ]
  },
  {
   "cell_type": "code",
   "execution_count": 14,
   "id": "9dba23f3",
   "metadata": {},
   "outputs": [],
   "source": [
    "#password masking"
   ]
  },
  {
   "cell_type": "code",
   "execution_count": 16,
   "id": "91672005",
   "metadata": {},
   "outputs": [
    {
     "name": "stdout",
     "output_type": "stream",
     "text": [
      "enter username········\n",
      "enter password········\n",
      "prerana\n",
      "prerana\n"
     ]
    }
   ],
   "source": [
    "import getpass\n",
    "user=getpass.getpass(\"enter username\") #to take input\n",
    "pwd=getpass.getpass(\"enter password\")\n",
    "print(user)\n",
    "print(pwd)"
   ]
  },
  {
   "cell_type": "code",
   "execution_count": 17,
   "id": "a2446a44",
   "metadata": {},
   "outputs": [
    {
     "data": {
      "text/plain": [
       "['BPF',\n",
       " 'LOG4',\n",
       " 'NV_MAGICCONST',\n",
       " 'RECIP_BPF',\n",
       " 'Random',\n",
       " 'SG_MAGICCONST',\n",
       " 'SystemRandom',\n",
       " 'TWOPI',\n",
       " '_ONE',\n",
       " '_Sequence',\n",
       " '_Set',\n",
       " '__all__',\n",
       " '__builtins__',\n",
       " '__cached__',\n",
       " '__doc__',\n",
       " '__file__',\n",
       " '__loader__',\n",
       " '__name__',\n",
       " '__package__',\n",
       " '__spec__',\n",
       " '_accumulate',\n",
       " '_acos',\n",
       " '_bisect',\n",
       " '_ceil',\n",
       " '_cos',\n",
       " '_e',\n",
       " '_exp',\n",
       " '_floor',\n",
       " '_index',\n",
       " '_inst',\n",
       " '_isfinite',\n",
       " '_log',\n",
       " '_os',\n",
       " '_pi',\n",
       " '_random',\n",
       " '_repeat',\n",
       " '_sha512',\n",
       " '_sin',\n",
       " '_sqrt',\n",
       " '_test',\n",
       " '_test_generator',\n",
       " '_urandom',\n",
       " '_warn',\n",
       " 'betavariate',\n",
       " 'choice',\n",
       " 'choices',\n",
       " 'expovariate',\n",
       " 'gammavariate',\n",
       " 'gauss',\n",
       " 'getrandbits',\n",
       " 'getstate',\n",
       " 'lognormvariate',\n",
       " 'normalvariate',\n",
       " 'paretovariate',\n",
       " 'randbytes',\n",
       " 'randint',\n",
       " 'random',\n",
       " 'randrange',\n",
       " 'sample',\n",
       " 'seed',\n",
       " 'setstate',\n",
       " 'shuffle',\n",
       " 'triangular',\n",
       " 'uniform',\n",
       " 'vonmisesvariate',\n",
       " 'weibullvariate']"
      ]
     },
     "execution_count": 17,
     "metadata": {},
     "output_type": "execute_result"
    }
   ],
   "source": [
    "dir(random)  #to check available functions"
   ]
  },
  {
   "cell_type": "code",
   "execution_count": 20,
   "id": "e79834d0",
   "metadata": {},
   "outputs": [
    {
     "data": {
      "text/plain": [
       "296.04560459496776"
      ]
     },
     "execution_count": 20,
     "metadata": {},
     "output_type": "execute_result"
    }
   ],
   "source": [
    " import math\n",
    " math.sqrt(87643)"
   ]
  },
  {
   "cell_type": "code",
   "execution_count": 21,
   "id": "7f61a2fb",
   "metadata": {},
   "outputs": [
    {
     "data": {
      "text/plain": [
       "['__doc__',\n",
       " '__loader__',\n",
       " '__name__',\n",
       " '__package__',\n",
       " '__spec__',\n",
       " 'acos',\n",
       " 'acosh',\n",
       " 'asin',\n",
       " 'asinh',\n",
       " 'atan',\n",
       " 'atan2',\n",
       " 'atanh',\n",
       " 'ceil',\n",
       " 'comb',\n",
       " 'copysign',\n",
       " 'cos',\n",
       " 'cosh',\n",
       " 'degrees',\n",
       " 'dist',\n",
       " 'e',\n",
       " 'erf',\n",
       " 'erfc',\n",
       " 'exp',\n",
       " 'expm1',\n",
       " 'fabs',\n",
       " 'factorial',\n",
       " 'floor',\n",
       " 'fmod',\n",
       " 'frexp',\n",
       " 'fsum',\n",
       " 'gamma',\n",
       " 'gcd',\n",
       " 'hypot',\n",
       " 'inf',\n",
       " 'isclose',\n",
       " 'isfinite',\n",
       " 'isinf',\n",
       " 'isnan',\n",
       " 'isqrt',\n",
       " 'lcm',\n",
       " 'ldexp',\n",
       " 'lgamma',\n",
       " 'log',\n",
       " 'log10',\n",
       " 'log1p',\n",
       " 'log2',\n",
       " 'modf',\n",
       " 'nan',\n",
       " 'nextafter',\n",
       " 'perm',\n",
       " 'pi',\n",
       " 'pow',\n",
       " 'prod',\n",
       " 'radians',\n",
       " 'remainder',\n",
       " 'sin',\n",
       " 'sinh',\n",
       " 'sqrt',\n",
       " 'tan',\n",
       " 'tanh',\n",
       " 'tau',\n",
       " 'trunc',\n",
       " 'ulp']"
      ]
     },
     "execution_count": 21,
     "metadata": {},
     "output_type": "execute_result"
    }
   ],
   "source": [
    "dir(math)"
   ]
  },
  {
   "cell_type": "code",
   "execution_count": 22,
   "id": "e5290d99",
   "metadata": {},
   "outputs": [
    {
     "data": {
      "text/plain": [
       "65536.0"
      ]
     },
     "execution_count": 22,
     "metadata": {},
     "output_type": "execute_result"
    }
   ],
   "source": [
    "import math\n",
    "math.pow(2,16)"
   ]
  },
  {
   "cell_type": "code",
   "execution_count": 2,
   "id": "301cbd79",
   "metadata": {},
   "outputs": [],
   "source": [
    "# list is mutable \n",
    "# add or remove items"
   ]
  },
  {
   "cell_type": "code",
   "execution_count": 3,
   "id": "60a9574b",
   "metadata": {},
   "outputs": [],
   "source": [
    "l=[1,2,3,1,\"gsss\",2.3,1,2,3,3,4]"
   ]
  },
  {
   "cell_type": "code",
   "execution_count": 4,
   "id": "64106396",
   "metadata": {},
   "outputs": [
    {
     "data": {
      "text/plain": [
       "[1, 2, 3, 1, 'gsss', 2.3, 1, 2, 3, 3, 4]"
      ]
     },
     "execution_count": 4,
     "metadata": {},
     "output_type": "execute_result"
    }
   ],
   "source": [
    "l\n"
   ]
  },
  {
   "cell_type": "code",
   "execution_count": 5,
   "id": "0e9785b5",
   "metadata": {},
   "outputs": [
    {
     "data": {
      "text/plain": [
       "list"
      ]
     },
     "execution_count": 5,
     "metadata": {},
     "output_type": "execute_result"
    }
   ],
   "source": [
    "type(l)"
   ]
  },
  {
   "cell_type": "raw",
   "id": "b6c2809e",
   "metadata": {},
   "source": [
    "dir(l)"
   ]
  },
  {
   "cell_type": "code",
   "execution_count": 7,
   "id": "6d401e0a",
   "metadata": {},
   "outputs": [
    {
     "ename": "AttributeError",
     "evalue": "'list' object has no attribute 'add'",
     "output_type": "error",
     "traceback": [
      "\u001b[1;31m---------------------------------------------------------------------------\u001b[0m",
      "\u001b[1;31mAttributeError\u001b[0m                            Traceback (most recent call last)",
      "Cell \u001b[1;32mIn[7], line 1\u001b[0m\n\u001b[1;32m----> 1\u001b[0m \u001b[43ml\u001b[49m\u001b[38;5;241;43m.\u001b[39;49m\u001b[43madd\u001b[49m(\u001b[38;5;241m5\u001b[39m)\n",
      "\u001b[1;31mAttributeError\u001b[0m: 'list' object has no attribute 'add'"
     ]
    }
   ],
   "source": [
    "l.add(5)"
   ]
  },
  {
   "cell_type": "code",
   "execution_count": 9,
   "id": "ceb4caf7",
   "metadata": {},
   "outputs": [
    {
     "ename": "TypeError",
     "evalue": "insert expected 2 arguments, got 1",
     "output_type": "error",
     "traceback": [
      "\u001b[1;31m---------------------------------------------------------------------------\u001b[0m",
      "\u001b[1;31mTypeError\u001b[0m                                 Traceback (most recent call last)",
      "Cell \u001b[1;32mIn[9], line 1\u001b[0m\n\u001b[1;32m----> 1\u001b[0m \u001b[43ml\u001b[49m\u001b[38;5;241;43m.\u001b[39;49m\u001b[43minsert\u001b[49m\u001b[43m(\u001b[49m\u001b[38;5;241;43m0\u001b[39;49m\u001b[43m)\u001b[49m\n",
      "\u001b[1;31mTypeError\u001b[0m: insert expected 2 arguments, got 1"
     ]
    }
   ],
   "source": [
    "l.insert(0)"
   ]
  },
  {
   "cell_type": "code",
   "execution_count": 10,
   "id": "8a4e9477",
   "metadata": {},
   "outputs": [
    {
     "data": {
      "text/plain": [
       "11"
      ]
     },
     "execution_count": 10,
     "metadata": {},
     "output_type": "execute_result"
    }
   ],
   "source": [
    "len(l)"
   ]
  },
  {
   "cell_type": "code",
   "execution_count": 11,
   "id": "80c84100",
   "metadata": {},
   "outputs": [
    {
     "data": {
      "text/plain": [
       "1"
      ]
     },
     "execution_count": 11,
     "metadata": {},
     "output_type": "execute_result"
    }
   ],
   "source": [
    "l[0]"
   ]
  },
  {
   "cell_type": "code",
   "execution_count": 12,
   "id": "c5a7a553",
   "metadata": {},
   "outputs": [
    {
     "data": {
      "text/plain": [
       "4"
      ]
     },
     "execution_count": 12,
     "metadata": {},
     "output_type": "execute_result"
    }
   ],
   "source": [
    "l[-1] # last element"
   ]
  },
  {
   "cell_type": "code",
   "execution_count": 13,
   "id": "c9e89d0b",
   "metadata": {},
   "outputs": [
    {
     "data": {
      "text/plain": [
       "[1, 2, 3, 1, 'gsss', 2.3, 1, 2, 3, 3, 4]"
      ]
     },
     "execution_count": 13,
     "metadata": {},
     "output_type": "execute_result"
    }
   ],
   "source": [
    "l"
   ]
  },
  {
   "cell_type": "code",
   "execution_count": 19,
   "id": "e521acf1",
   "metadata": {},
   "outputs": [],
   "source": [
    "# to replace some elements in list"
   ]
  },
  {
   "cell_type": "code",
   "execution_count": 15,
   "id": "50107e0f",
   "metadata": {},
   "outputs": [],
   "source": [
    "l[0]=100"
   ]
  },
  {
   "cell_type": "code",
   "execution_count": 16,
   "id": "a7ade6a9",
   "metadata": {},
   "outputs": [
    {
     "data": {
      "text/plain": [
       "[100, 2, 3, 1, 'gsss', 2.3, 1, 2, 3, 3, 4]"
      ]
     },
     "execution_count": 16,
     "metadata": {},
     "output_type": "execute_result"
    }
   ],
   "source": [
    "l"
   ]
  },
  {
   "cell_type": "code",
   "execution_count": 17,
   "id": "9c59ee8c",
   "metadata": {},
   "outputs": [],
   "source": [
    "l[1:3]=111,222"
   ]
  },
  {
   "cell_type": "code",
   "execution_count": 18,
   "id": "5925d7df",
   "metadata": {},
   "outputs": [
    {
     "data": {
      "text/plain": [
       "[100, 111, 222, 1, 'gsss', 2.3, 1, 2, 3, 3, 4]"
      ]
     },
     "execution_count": 18,
     "metadata": {},
     "output_type": "execute_result"
    }
   ],
   "source": [
    "l"
   ]
  },
  {
   "cell_type": "code",
   "execution_count": 20,
   "id": "614deee6",
   "metadata": {},
   "outputs": [],
   "source": [
    "# to check repetative elements"
   ]
  },
  {
   "cell_type": "code",
   "execution_count": 21,
   "id": "f1cc15ad",
   "metadata": {},
   "outputs": [
    {
     "data": {
      "text/plain": [
       "2"
      ]
     },
     "execution_count": 21,
     "metadata": {},
     "output_type": "execute_result"
    }
   ],
   "source": [
    "l.count(3)"
   ]
  },
  {
   "cell_type": "code",
   "execution_count": 22,
   "id": "ea2f291a",
   "metadata": {},
   "outputs": [],
   "source": [
    "#to check index of data"
   ]
  },
  {
   "cell_type": "code",
   "execution_count": 24,
   "id": "2a9050c5",
   "metadata": {},
   "outputs": [
    {
     "data": {
      "text/plain": [
       "2"
      ]
     },
     "execution_count": 24,
     "metadata": {},
     "output_type": "execute_result"
    }
   ],
   "source": [
    "l.index(222)"
   ]
  },
  {
   "cell_type": "code",
   "execution_count": 25,
   "id": "7b456db5",
   "metadata": {},
   "outputs": [
    {
     "data": {
      "text/plain": [
       "8"
      ]
     },
     "execution_count": 25,
     "metadata": {},
     "output_type": "execute_result"
    }
   ],
   "source": [
    "l.index(3) # any number of 3 ,all will be storedin same memory location"
   ]
  },
  {
   "cell_type": "code",
   "execution_count": 26,
   "id": "f827e470",
   "metadata": {},
   "outputs": [],
   "source": [
    "a=1\n",
    "b=1"
   ]
  },
  {
   "cell_type": "code",
   "execution_count": 27,
   "id": "ce0457b5",
   "metadata": {},
   "outputs": [
    {
     "data": {
      "text/plain": [
       "1322133946608"
      ]
     },
     "execution_count": 27,
     "metadata": {},
     "output_type": "execute_result"
    }
   ],
   "source": [
    "id(a)"
   ]
  },
  {
   "cell_type": "code",
   "execution_count": 28,
   "id": "0c8c83b8",
   "metadata": {},
   "outputs": [
    {
     "data": {
      "text/plain": [
       "1322133946608"
      ]
     },
     "execution_count": 28,
     "metadata": {},
     "output_type": "execute_result"
    }
   ],
   "source": [
    "id(b)"
   ]
  },
  {
   "cell_type": "code",
   "execution_count": 29,
   "id": "0bdf3b45",
   "metadata": {},
   "outputs": [
    {
     "data": {
      "text/plain": [
       "[100, 111, 222, 1, 'gsss', 2.3, 1, 2, 3, 3, 4]"
      ]
     },
     "execution_count": 29,
     "metadata": {},
     "output_type": "execute_result"
    }
   ],
   "source": [
    "l"
   ]
  },
  {
   "cell_type": "code",
   "execution_count": 30,
   "id": "619f32cf",
   "metadata": {},
   "outputs": [],
   "source": [
    "l.append(34)"
   ]
  },
  {
   "cell_type": "code",
   "execution_count": 31,
   "id": "c40a989f",
   "metadata": {},
   "outputs": [
    {
     "data": {
      "text/plain": [
       "[100, 111, 222, 1, 'gsss', 2.3, 1, 2, 3, 3, 4, 34]"
      ]
     },
     "execution_count": 31,
     "metadata": {},
     "output_type": "execute_result"
    }
   ],
   "source": [
    "l # append always adds elements at the last"
   ]
  },
  {
   "cell_type": "code",
   "execution_count": 34,
   "id": "d7999037",
   "metadata": {},
   "outputs": [],
   "source": [
    "l.insert(3,333) # inserts to particular position"
   ]
  },
  {
   "cell_type": "code",
   "execution_count": 33,
   "id": "126954b9",
   "metadata": {},
   "outputs": [
    {
     "data": {
      "text/plain": [
       "[100, 111, 222, 333, 1, 'gsss', 2.3, 1, 2, 3, 3, 4, 34]"
      ]
     },
     "execution_count": 33,
     "metadata": {},
     "output_type": "execute_result"
    }
   ],
   "source": [
    "l"
   ]
  },
  {
   "cell_type": "code",
   "execution_count": 47,
   "id": "9d689bcb",
   "metadata": {},
   "outputs": [
    {
     "name": "stdout",
     "output_type": "stream",
     "text": [
      "even: [2, 4, 6, 8, 10, 12, 14, 16, 18, 20, 22, 24, 26, 28, 30, 32, 34, 36, 38, 40, 42, 44, 46, 48, 50, 52, 54, 56, 58, 60, 62, 64, 66, 68, 70, 72, 74, 76, 78, 80, 82, 84, 86, 88, 90, 92, 94, 96, 98, 100]\n",
      "odd: [1, 3, 5, 7, 9, 11, 13, 15, 17, 19, 21, 23, 25, 27, 29, 31, 33, 35, 37, 39, 41, 43, 45, 47, 49, 51, 53, 55, 57, 59, 61, 63, 65, 67, 69, 71, 73, 75, 77, 79, 81, 83, 85, 87, 89, 91, 93, 95, 97, 99]\n"
     ]
    }
   ],
   "source": [
    "odd=[]\n",
    "even=[]\n",
    "for i in range(1,101):\n",
    "    if i%2==0:\n",
    "        even.append(i)\n",
    "    else:\n",
    "        odd.append(i)\n",
    "print(\"even:\",even)\n",
    "print(\"odd:\",odd)\n",
    "    \n",
    "    "
   ]
  },
  {
   "cell_type": "code",
   "execution_count": 43,
   "id": "9c1ebc44",
   "metadata": {},
   "outputs": [
    {
     "data": {
      "text/plain": [
       "[100]"
      ]
     },
     "execution_count": 43,
     "metadata": {},
     "output_type": "execute_result"
    }
   ],
   "source": [
    "odd"
   ]
  },
  {
   "cell_type": "code",
   "execution_count": 48,
   "id": "47ed3c15",
   "metadata": {},
   "outputs": [],
   "source": [
    "# to delete last element \n",
    "# use pop"
   ]
  },
  {
   "cell_type": "code",
   "execution_count": 49,
   "id": "047e3a01",
   "metadata": {},
   "outputs": [
    {
     "data": {
      "text/plain": [
       "[100, 111, 222, 333, 333, 1, 'gsss', 2.3, 1, 2, 3, 3, 4, 34]"
      ]
     },
     "execution_count": 49,
     "metadata": {},
     "output_type": "execute_result"
    }
   ],
   "source": [
    "l"
   ]
  },
  {
   "cell_type": "code",
   "execution_count": 50,
   "id": "a8e87d6c",
   "metadata": {},
   "outputs": [
    {
     "data": {
      "text/plain": [
       "34"
      ]
     },
     "execution_count": 50,
     "metadata": {},
     "output_type": "execute_result"
    }
   ],
   "source": [
    "l.pop()"
   ]
  },
  {
   "cell_type": "code",
   "execution_count": 51,
   "id": "206b3738",
   "metadata": {},
   "outputs": [
    {
     "data": {
      "text/plain": [
       "[100, 111, 222, 333, 333, 1, 'gsss', 2.3, 1, 2, 3, 3, 4]"
      ]
     },
     "execution_count": 51,
     "metadata": {},
     "output_type": "execute_result"
    }
   ],
   "source": [
    "l"
   ]
  },
  {
   "cell_type": "code",
   "execution_count": 52,
   "id": "eb88eb83",
   "metadata": {},
   "outputs": [],
   "source": [
    "l.remove(1) #give number in list to be deleted"
   ]
  },
  {
   "cell_type": "code",
   "execution_count": 53,
   "id": "2c5161f6",
   "metadata": {},
   "outputs": [
    {
     "data": {
      "text/plain": [
       "[100, 111, 222, 333, 333, 'gsss', 2.3, 1, 2, 3, 3, 4]"
      ]
     },
     "execution_count": 53,
     "metadata": {},
     "output_type": "execute_result"
    }
   ],
   "source": [
    "l"
   ]
  },
  {
   "cell_type": "code",
   "execution_count": 54,
   "id": "cfac0fbc",
   "metadata": {},
   "outputs": [],
   "source": [
    "l.clear()"
   ]
  },
  {
   "cell_type": "code",
   "execution_count": 55,
   "id": "5d18a034",
   "metadata": {},
   "outputs": [
    {
     "data": {
      "text/plain": [
       "[]"
      ]
     },
     "execution_count": 55,
     "metadata": {},
     "output_type": "execute_result"
    }
   ],
   "source": [
    "l # gives empty list"
   ]
  },
  {
   "cell_type": "code",
   "execution_count": 56,
   "id": "a36bc6b5",
   "metadata": {},
   "outputs": [],
   "source": [
    "# nested list"
   ]
  },
  {
   "cell_type": "code",
   "execution_count": 57,
   "id": "bc6d347c",
   "metadata": {},
   "outputs": [],
   "source": [
    "l=[10,20,[30,40]]"
   ]
  },
  {
   "cell_type": "code",
   "execution_count": 58,
   "id": "c544799d",
   "metadata": {},
   "outputs": [
    {
     "data": {
      "text/plain": [
       "40"
      ]
     },
     "execution_count": 58,
     "metadata": {},
     "output_type": "execute_result"
    }
   ],
   "source": [
    "l[2][1] # to print 40 "
   ]
  },
  {
   "cell_type": "code",
   "execution_count": 60,
   "id": "62296326",
   "metadata": {},
   "outputs": [],
   "source": [
    "# tupple\n",
    "# not mutable ,everything is same as list\n",
    "# eg:aadhar number"
   ]
  },
  {
   "cell_type": "code",
   "execution_count": 61,
   "id": "8d19d64c",
   "metadata": {},
   "outputs": [],
   "source": [
    "t=(1,2,3,4,2,2,\"ji\",3.2)"
   ]
  },
  {
   "cell_type": "code",
   "execution_count": 62,
   "id": "3a8fcc2f",
   "metadata": {},
   "outputs": [
    {
     "data": {
      "text/plain": [
       "tuple"
      ]
     },
     "execution_count": 62,
     "metadata": {},
     "output_type": "execute_result"
    }
   ],
   "source": [
    "type(t)"
   ]
  },
  {
   "cell_type": "code",
   "execution_count": 63,
   "id": "57d0ebce",
   "metadata": {},
   "outputs": [
    {
     "data": {
      "text/plain": [
       "(1, 2, 3, 4, 2, 2, 'ji', 3.2)"
      ]
     },
     "execution_count": 63,
     "metadata": {},
     "output_type": "execute_result"
    }
   ],
   "source": [
    "t"
   ]
  },
  {
   "cell_type": "code",
   "execution_count": 64,
   "id": "bff43b12",
   "metadata": {},
   "outputs": [
    {
     "data": {
      "text/plain": [
       "['__add__',\n",
       " '__class__',\n",
       " '__class_getitem__',\n",
       " '__contains__',\n",
       " '__delattr__',\n",
       " '__dir__',\n",
       " '__doc__',\n",
       " '__eq__',\n",
       " '__format__',\n",
       " '__ge__',\n",
       " '__getattribute__',\n",
       " '__getitem__',\n",
       " '__getnewargs__',\n",
       " '__gt__',\n",
       " '__hash__',\n",
       " '__init__',\n",
       " '__init_subclass__',\n",
       " '__iter__',\n",
       " '__le__',\n",
       " '__len__',\n",
       " '__lt__',\n",
       " '__mul__',\n",
       " '__ne__',\n",
       " '__new__',\n",
       " '__reduce__',\n",
       " '__reduce_ex__',\n",
       " '__repr__',\n",
       " '__rmul__',\n",
       " '__setattr__',\n",
       " '__sizeof__',\n",
       " '__str__',\n",
       " '__subclasshook__',\n",
       " 'count',\n",
       " 'index']"
      ]
     },
     "execution_count": 64,
     "metadata": {},
     "output_type": "execute_result"
    }
   ],
   "source": [
    "dir(t)"
   ]
  },
  {
   "cell_type": "code",
   "execution_count": 65,
   "id": "a88bfc80",
   "metadata": {},
   "outputs": [],
   "source": [
    "# set\n",
    "# No repeated elements\n",
    "#order changes\n",
    "# mutable"
   ]
  },
  {
   "cell_type": "code",
   "execution_count": 71,
   "id": "3fd2b294",
   "metadata": {},
   "outputs": [],
   "source": [
    "s={1,10,100,2,2.3,20,23,23,34,4,'gss'}"
   ]
  },
  {
   "cell_type": "code",
   "execution_count": 67,
   "id": "6e3f78ee",
   "metadata": {},
   "outputs": [
    {
     "data": {
      "text/plain": [
       "{1, 10, 100, 2, 2.3, 20, 23, 3, 34, 4, 'gss'}"
      ]
     },
     "execution_count": 67,
     "metadata": {},
     "output_type": "execute_result"
    }
   ],
   "source": [
    "s"
   ]
  },
  {
   "cell_type": "code",
   "execution_count": 70,
   "id": "0317cc3e",
   "metadata": {},
   "outputs": [
    {
     "data": {
      "text/plain": [
       "set"
      ]
     },
     "execution_count": 70,
     "metadata": {},
     "output_type": "execute_result"
    }
   ],
   "source": [
    "type(s)"
   ]
  },
  {
   "cell_type": "code",
   "execution_count": 76,
   "id": "b963a4c3",
   "metadata": {},
   "outputs": [],
   "source": [
    "# dictionary\n",
    "# values are mutable\n",
    "# keys are immutable\n",
    "# different usn for same names is an example"
   ]
  },
  {
   "cell_type": "code",
   "execution_count": 72,
   "id": "50382fb8",
   "metadata": {},
   "outputs": [],
   "source": [
    "d={101:\"cse\",102:\"ise\",103:\"aiml\"}"
   ]
  },
  {
   "cell_type": "code",
   "execution_count": 73,
   "id": "31f1cd51",
   "metadata": {},
   "outputs": [
    {
     "data": {
      "text/plain": [
       "{101: 'cse', 102: 'ise', 103: 'aiml'}"
      ]
     },
     "execution_count": 73,
     "metadata": {},
     "output_type": "execute_result"
    }
   ],
   "source": [
    "d"
   ]
  },
  {
   "cell_type": "code",
   "execution_count": 74,
   "id": "78d84378",
   "metadata": {},
   "outputs": [],
   "source": [
    "d[104]='hello'"
   ]
  },
  {
   "cell_type": "code",
   "execution_count": 75,
   "id": "6f804967",
   "metadata": {},
   "outputs": [
    {
     "data": {
      "text/plain": [
       "{101: 'cse', 102: 'ise', 103: 'aiml', 104: 'hello'}"
      ]
     },
     "execution_count": 75,
     "metadata": {},
     "output_type": "execute_result"
    }
   ],
   "source": [
    "d"
   ]
  },
  {
   "cell_type": "code",
   "execution_count": 77,
   "id": "5ee05165",
   "metadata": {},
   "outputs": [
    {
     "data": {
      "text/plain": [
       "'cse'"
      ]
     },
     "execution_count": 77,
     "metadata": {},
     "output_type": "execute_result"
    }
   ],
   "source": [
    "d[101]"
   ]
  },
  {
   "cell_type": "code",
   "execution_count": 78,
   "id": "7f796f71",
   "metadata": {},
   "outputs": [],
   "source": [
    "d[104]=\"names\""
   ]
  },
  {
   "cell_type": "code",
   "execution_count": 79,
   "id": "c3a41b1a",
   "metadata": {},
   "outputs": [
    {
     "data": {
      "text/plain": [
       "{101: 'cse', 102: 'ise', 103: 'aiml', 104: 'names'}"
      ]
     },
     "execution_count": 79,
     "metadata": {},
     "output_type": "execute_result"
    }
   ],
   "source": [
    "d"
   ]
  },
  {
   "cell_type": "markdown",
   "id": "b9c6201b",
   "metadata": {},
   "source": [
    "# Login page"
   ]
  },
  {
   "cell_type": "code",
   "execution_count": 105,
   "id": "cf3cde9a",
   "metadata": {},
   "outputs": [
    {
     "data": {
      "text/plain": [
       "['__class__',\n",
       " '__class_getitem__',\n",
       " '__contains__',\n",
       " '__delattr__',\n",
       " '__delitem__',\n",
       " '__dir__',\n",
       " '__doc__',\n",
       " '__eq__',\n",
       " '__format__',\n",
       " '__ge__',\n",
       " '__getattribute__',\n",
       " '__getitem__',\n",
       " '__gt__',\n",
       " '__hash__',\n",
       " '__init__',\n",
       " '__init_subclass__',\n",
       " '__ior__',\n",
       " '__iter__',\n",
       " '__le__',\n",
       " '__len__',\n",
       " '__lt__',\n",
       " '__ne__',\n",
       " '__new__',\n",
       " '__or__',\n",
       " '__reduce__',\n",
       " '__reduce_ex__',\n",
       " '__repr__',\n",
       " '__reversed__',\n",
       " '__ror__',\n",
       " '__setattr__',\n",
       " '__setitem__',\n",
       " '__sizeof__',\n",
       " '__str__',\n",
       " '__subclasshook__',\n",
       " 'clear',\n",
       " 'copy',\n",
       " 'fromkeys',\n",
       " 'get',\n",
       " 'items',\n",
       " 'keys',\n",
       " 'pop',\n",
       " 'popitem',\n",
       " 'setdefault',\n",
       " 'update',\n",
       " 'values']"
      ]
     },
     "execution_count": 105,
     "metadata": {},
     "output_type": "execute_result"
    }
   ],
   "source": [
    "dir(d)"
   ]
  },
  {
   "cell_type": "code",
   "execution_count": 132,
   "id": "889a202e",
   "metadata": {},
   "outputs": [
    {
     "name": "stdout",
     "output_type": "stream",
     "text": [
      " username:prerana\n",
      "user exists\n"
     ]
    },
    {
     "ename": "TypeError",
     "evalue": "dict.values() takes no arguments (1 given)",
     "output_type": "error",
     "traceback": [
      "\u001b[1;31m---------------------------------------------------------------------------\u001b[0m",
      "\u001b[1;31mTypeError\u001b[0m                                 Traceback (most recent call last)",
      "Cell \u001b[1;32mIn[132], line 7\u001b[0m\n\u001b[0;32m      4\u001b[0m \u001b[38;5;28;01mif\u001b[39;00m stu_name \u001b[38;5;129;01min\u001b[39;00m student:\n\u001b[0;32m      5\u001b[0m     \u001b[38;5;28mprint\u001b[39m(\u001b[38;5;124m\"\u001b[39m\u001b[38;5;124muser exists\u001b[39m\u001b[38;5;124m\"\u001b[39m)\n\u001b[1;32m----> 7\u001b[0m     i\u001b[38;5;241m=\u001b[39m\u001b[43mstudent\u001b[49m\u001b[38;5;241;43m.\u001b[39;49m\u001b[43mvalues\u001b[49m\u001b[43m(\u001b[49m\u001b[43mstu_name\u001b[49m\u001b[43m)\u001b[49m\n\u001b[0;32m      8\u001b[0m     pwd_no\u001b[38;5;241m=\u001b[39m\u001b[38;5;28minput\u001b[39m(\u001b[38;5;124m'\u001b[39m\u001b[38;5;124mpassword:\u001b[39m\u001b[38;5;124m'\u001b[39m)\n\u001b[0;32m      9\u001b[0m     \u001b[38;5;28;01mif\u001b[39;00m pwd_no\u001b[38;5;241m==\u001b[39mstudent\u001b[38;5;241m.\u001b[39mvalues(i):\n",
      "\u001b[1;31mTypeError\u001b[0m: dict.values() takes no arguments (1 given)"
     ]
    }
   ],
   "source": [
    "student={\"prerana\":\"555\",\"sinchu\":888,\"sindhu\":777,\"smitha\":222,\"bindhu\":999}\n",
    "\n",
    "stu_name=input(\" username:\")\n",
    "if stu_name in student:\n",
    "    print(\"user exists\")\n",
    "    \n",
    "    \n",
    "    pwd_no=input('password:')\n",
    "    if pwd_no==student.values(i):\n",
    "        print(\"login sucessful\")\n",
    "    else:\n",
    "         print(\"invalid password\")\n",
    "else:\n",
    "    print(\"user not found\")\n",
    "    "
   ]
  },
  {
   "cell_type": "code",
   "execution_count": 89,
   "id": "666232e4",
   "metadata": {},
   "outputs": [
    {
     "name": "stdout",
     "output_type": "stream",
     "text": [
      "enter the username:user4\n",
      "valid user\n",
      "3\n",
      "enter the passwordpass3\n",
      "invalid login\n"
     ]
    }
   ],
   "source": [
    "username=[\"user1\",\"user2\",\"user3\",\"user4\",]\n",
    "password=[\"pass1\",\"pass2\",\"pass3\",\"pass4\",\"pass5\"]\n",
    "usr=input(\"enter the username:\")\n",
    "if usr in username:\n",
    "    print(\"valid user\")\n",
    "    i=username.index(usr)\n",
    "    print(i)\n",
    "    pwd=input(\"enter the password\")\n",
    "    if pwd==password[i]:\n",
    "         print(\"valid password allow login\")\n",
    "    else:\n",
    "        print(\"invalid login\")\n",
    "else:\n",
    "    print(\"invalid username\")"
   ]
  },
  {
   "cell_type": "code",
   "execution_count": 98,
   "id": "aa2441d8",
   "metadata": {},
   "outputs": [],
   "source": [
    "# class\n",
    "# group of functions in a class= method\n"
   ]
  },
  {
   "cell_type": "code",
   "execution_count": 108,
   "id": "23ee8433",
   "metadata": {},
   "outputs": [],
   "source": [
    "# declaration of class\n",
    "# self= 1st parameter,need to use this,reference variable"
   ]
  },
  {
   "cell_type": "code",
   "execution_count": 100,
   "id": "cdaa0721",
   "metadata": {},
   "outputs": [
    {
     "ename": "TypeError",
     "evalue": "Students.college() takes 0 positional arguments but 1 was given",
     "output_type": "error",
     "traceback": [
      "\u001b[1;31m---------------------------------------------------------------------------\u001b[0m",
      "\u001b[1;31mTypeError\u001b[0m                                 Traceback (most recent call last)",
      "Cell \u001b[1;32mIn[100], line 7\u001b[0m\n\u001b[0;32m      5\u001b[0m         \u001b[38;5;28mprint\u001b[39m(\u001b[38;5;124m\"\u001b[39m\u001b[38;5;124mstudent information\u001b[39m\u001b[38;5;124m\"\u001b[39m)\n\u001b[0;32m      6\u001b[0m s1\u001b[38;5;241m=\u001b[39mStudents()\n\u001b[1;32m----> 7\u001b[0m \u001b[43ms1\u001b[49m\u001b[38;5;241;43m.\u001b[39;49m\u001b[43mcollege\u001b[49m\u001b[43m(\u001b[49m\u001b[43m)\u001b[49m\n",
      "\u001b[1;31mTypeError\u001b[0m: Students.college() takes 0 positional arguments but 1 was given"
     ]
    }
   ],
   "source": [
    "class Students():\n",
    "    def college():\n",
    "        print(\"GSSS College\")\n",
    "    def info():\n",
    "        print(\"student information\")\n",
    "s1=Students()\n",
    "s1.college()"
   ]
  },
  {
   "cell_type": "code",
   "execution_count": 103,
   "id": "2034c375",
   "metadata": {},
   "outputs": [
    {
     "name": "stdout",
     "output_type": "stream",
     "text": [
      "GSSS College\n"
     ]
    }
   ],
   "source": [
    "class Students():\n",
    "    def college(self):\n",
    "        print(\"GSSS College\")\n",
    "    def info(self):\n",
    "        print(\"student information\")\n",
    "s1=Students()\n",
    "s1.college()"
   ]
  },
  {
   "cell_type": "code",
   "execution_count": 104,
   "id": "a9a6b218",
   "metadata": {},
   "outputs": [
    {
     "name": "stdout",
     "output_type": "stream",
     "text": [
      "student information\n"
     ]
    }
   ],
   "source": [
    "s1.info()"
   ]
  },
  {
   "cell_type": "code",
   "execution_count": 121,
   "id": "a46a1261",
   "metadata": {},
   "outputs": [],
   "source": [
    "class Students():\n",
    "    def __init__(self,name,usn,branch,college,ph_no):\n",
    "        self.name=name\n",
    "        self.usn=usn\n",
    "        self.branch=branch\n",
    "        self.college=college\n",
    "        self.ph_no=ph_no\n",
    "    \n",
    "    def college(self):\n",
    "        print(\"GSSS College\")\n",
    "    def info(self):\n",
    "        print(\"student information\")\n",
    "        print(\"name:\",self.name)\n",
    "        print(\"usn:\",self.usn)\n",
    "        print(\"branch:\",self.branch)\n",
    "        print(\"college:\",self.college)\n",
    "        print(\"phone number:\",self.ph_no)\n",
    "s1=Students(name=\"sin\",usn=\"4gw21cs000\",branch=\"CSE\",college=\"GSSS\",ph_no=9955663344)\n",
    "s2=Students(\"min\",\"4gw21cs001\",\"CSE\",\"GSSS\",9955666844)\n",
    "s3=Students(\"fin\",\"4gw21cs002\",\"CSE\",\"GSSS\",9955663300)"
   ]
  },
  {
   "cell_type": "markdown",
   "id": "93b74f7e",
   "metadata": {},
   "source": [
    "s1.name"
   ]
  },
  {
   "cell_type": "code",
   "execution_count": 120,
   "id": "c565d546",
   "metadata": {},
   "outputs": [
    {
     "data": {
      "text/plain": [
       "'sin'"
      ]
     },
     "execution_count": 120,
     "metadata": {},
     "output_type": "execute_result"
    }
   ],
   "source": [
    "s1.name"
   ]
  },
  {
   "cell_type": "code",
   "execution_count": 127,
   "id": "d3a7bb8f",
   "metadata": {},
   "outputs": [
    {
     "name": "stdout",
     "output_type": "stream",
     "text": [
      "student information\n",
      "name: fin\n",
      "usn: 4gw21cs002\n",
      "branch: CSE\n",
      "college: GSSS\n",
      "phone number: 9955663300\n"
     ]
    }
   ],
   "source": [
    "s3.info()\n"
   ]
  },
  {
   "cell_type": "code",
   "execution_count": 133,
   "id": "b4ceab79",
   "metadata": {},
   "outputs": [
    {
     "name": "stdout",
     "output_type": "stream",
     "text": [
      "Requirement already satisfied: matplotlib in c:\\users\\prera\\anaconda3\\lib\\site-packages (3.7.0)\n",
      "Requirement already satisfied: fonttools>=4.22.0 in c:\\users\\prera\\anaconda3\\lib\\site-packages (from matplotlib) (4.25.0)\n",
      "Requirement already satisfied: cycler>=0.10 in c:\\users\\prera\\anaconda3\\lib\\site-packages (from matplotlib) (0.11.0)\n",
      "Requirement already satisfied: pillow>=6.2.0 in c:\\users\\prera\\anaconda3\\lib\\site-packages (from matplotlib) (9.4.0)\n",
      "Requirement already satisfied: packaging>=20.0 in c:\\users\\prera\\anaconda3\\lib\\site-packages (from matplotlib) (22.0)\n",
      "Requirement already satisfied: pyparsing>=2.3.1 in c:\\users\\prera\\anaconda3\\lib\\site-packages (from matplotlib) (3.0.9)\n",
      "Requirement already satisfied: kiwisolver>=1.0.1 in c:\\users\\prera\\anaconda3\\lib\\site-packages (from matplotlib) (1.4.4)\n",
      "Requirement already satisfied: numpy>=1.20 in c:\\users\\prera\\anaconda3\\lib\\site-packages (from matplotlib) (1.23.5)\n",
      "Requirement already satisfied: python-dateutil>=2.7 in c:\\users\\prera\\anaconda3\\lib\\site-packages (from matplotlib) (2.8.2)\n",
      "Requirement already satisfied: contourpy>=1.0.1 in c:\\users\\prera\\anaconda3\\lib\\site-packages (from matplotlib) (1.0.5)\n",
      "Requirement already satisfied: six>=1.5 in c:\\users\\prera\\anaconda3\\lib\\site-packages (from python-dateutil>=2.7->matplotlib) (1.16.0)\n",
      "Note: you may need to restart the kernel to use updated packages.\n"
     ]
    },
    {
     "name": "stderr",
     "output_type": "stream",
     "text": [
      "WARNING: There was an error checking the latest version of pip.\n"
     ]
    }
   ],
   "source": [
    "pip install matplotlib"
   ]
  },
  {
   "cell_type": "code",
   "execution_count": 144,
   "id": "b525ca89",
   "metadata": {},
   "outputs": [
    {
     "data": {
      "image/png": "[encoded data removed]",
      "text/plain": [
       "<Figure size 640x480 with 1 Axes>"
      ]
     },
     "metadata": {},
     "output_type": "display_data"
    }
   ],
   "source": [
    "import matplotlib.pyplot as plt\n",
    "sem=[1,2,3,4,5,6,7,8]\n",
    "marks=[80,85,86,83,97,84,81,87]\n",
    "plt.title(\"marks analysis\")\n",
    "plt.xlabel(\"sem\")# xaxis\n",
    "plt.ylabel(\"marks\")\n",
    "plt.plot(sem,marks,marker=\"*\",ms=10,mfc=\"red\",mec=\"yellow\",color=\"black\",ls=\"--\")#mfc=marker face colour,mec=marker edge color\n",
    "plt.grid(color=\"b\",ls=\"--\") #ls=line size,#marker size=ms,o=round,d=diamond\n",
    "plt.show()\n"
   ]
  },
  {
   "cell_type": "code",
   "execution_count": 145,
   "id": "754e5b4a",
   "metadata": {},
   "outputs": [],
   "source": [
    "# subplots"
   ]
  },
  {
   "cell_type": "code",
   "execution_count": 150,
   "id": "ef3f0383",
   "metadata": {},
   "outputs": [
    {
     "data": {
      "image/png": "[encoded data removed]",
      "text/plain": [
       "<Figure size 640x480 with 3 Axes>"
      ]
     },
     "metadata": {},
     "output_type": "display_data"
    }
   ],
   "source": [
    "import matplotlib.pyplot as plt\n",
    "sem=[1,2,3,4,5,6,7,8]\n",
    "marks=[80,85,86,83,97,84,81,87]\n",
    "plt.subplot(1,3,1)\n",
    "plt.plot(sem,marks,color=\"red\")\n",
    "\n",
    "sem=[1,2,3,4,5,6,7,8]\n",
    "marks=[80,85,86,83,97,84,81,87]\n",
    "plt.subplot(1,3,2)\n",
    "plt.plot(sem,marks,color=\"black\")\n",
    "\n",
    "sem=[1,2,3,4,5,6,7,8]\n",
    "marks=[80,85,86,83,97,84,81,87]\n",
    "plt.subplot(1,3,3)\n",
    "plt.plot(sem,marks,color=\"yellow\")\n",
    "plt.show()"
   ]
  },
  {
   "cell_type": "code",
   "execution_count": 151,
   "id": "d1570a07",
   "metadata": {},
   "outputs": [],
   "source": [
    "# scatter plot"
   ]
  },
  {
   "cell_type": "code",
   "execution_count": 152,
   "id": "c5ca9402",
   "metadata": {},
   "outputs": [
    {
     "data": {
      "image/png": "[encoded data removed]",
      "text/plain": [
       "<Figure size 640x480 with 1 Axes>"
      ]
     },
     "metadata": {},
     "output_type": "display_data"
    }
   ],
   "source": [
    "sem=[1,2,3,4,5,6,7,8]\n",
    "marks=[80,85,86,83,97,84,81,87]\n",
    "plt.scatter(sem,marks,color=\"red\")\n",
    "plt.grid()\n",
    "plt.show()\n"
   ]
  },
  {
   "cell_type": "code",
   "execution_count": 155,
   "id": "29d402c5",
   "metadata": {},
   "outputs": [
    {
     "data": {
      "image/png": "[encoded data removed]",
      "text/plain": [
       "<Figure size 640x480 with 1 Axes>"
      ]
     },
     "metadata": {},
     "output_type": "display_data"
    }
   ],
   "source": [
    "sem=[1,2,3,4,5,6,7,8]\n",
    "marks=[80,85,86,83,97,84,81,87]\n",
    "\n",
    "plt.title(\"marks analysis\")\n",
    "plt.xlabel(\"sem\")# xaxis\n",
    "plt.ylabel(\"marks\")\n",
    "plt.bar(sem,marks,color=\"blue\",width=0.2)\n",
    "plt.grid()\n",
    "plt.show()"
   ]
  },
  {
   "cell_type": "code",
   "execution_count": 158,
   "id": "e78b1ce8",
   "metadata": {},
   "outputs": [
    {
     "data": {
      "image/png": "[encoded data removed]",
      "text/plain": [
       "<Figure size 640x480 with 1 Axes>"
      ]
     },
     "metadata": {},
     "output_type": "display_data"
    }
   ],
   "source": [
    "sem=[1,2,3,4,5,6,7,8]\n",
    "marks=[80,85,86,83,97,84,81,87]\n",
    "\n",
    "plt.title(\"marks analysis\")\n",
    "plt.xlabel(\"sem\")# xaxis\n",
    "plt.ylabel(\"marks\")\n",
    "plt.barh(sem,marks,color=\"powderblue\",height=0.2)\n",
    "plt.grid()\n",
    "plt.show()"
   ]
  },
  {
   "cell_type": "code",
   "execution_count": 159,
   "id": "e8513b56",
   "metadata": {},
   "outputs": [],
   "source": [
    "# pie chart"
   ]
  },
  {
   "cell_type": "code",
   "execution_count": 164,
   "id": "7eb04c0b",
   "metadata": {},
   "outputs": [
    {
     "data": {
      "image/png": "[encoded data removed]",
      "text/plain": [
       "<Figure size 640x480 with 1 Axes>"
      ]
     },
     "metadata": {},
     "output_type": "display_data"
    }
   ],
   "source": [
    "marks=[80,85,86,83,97,84,81,87]\n",
    "labels=[\"sem1\",\"sem2\",\"sem3\",\"sem4\",\"sem5\",\"sem6\",\"sem7\",\"sem8\"]\n",
    "plt.pie(marks,labels=labels)\n",
    "plt.legend()\n",
    "plt.show()"
   ]
  },
  {
   "cell_type": "code",
   "execution_count": 166,
   "id": "c32aae55",
   "metadata": {},
   "outputs": [
    {
     "data": {
      "image/png": "[encoded data removed]",
      "text/plain": [
       "<Figure size 640x480 with 1 Axes>"
      ]
     },
     "metadata": {},
     "output_type": "display_data"
    }
   ],
   "source": [
    "marks=[80,85,86,83,97,84,81,87,99,77,88,10]\n",
    "labels=[\"sem1\",\"sem2\",\"sem3\",\"sem4\",\"sem5\",\"sem6\",\"sem7\",\"sem8\",\"sem9\",\"sem10\",\"sem11\",\"sem12\"]\n",
    "plt.pie(marks,labels=labels,startangle=90)\n",
    "plt.legend()\n",
    "plt.show()"
   ]
  },
  {
   "cell_type": "code",
   "execution_count": null,
   "id": "ee4c9d11",
   "metadata": {},
   "outputs": [],
   "source": []
  }
 ],
 "metadata": {
  "kernelspec": {
   "display_name": "Python 3 (ipykernel)",
   "language": "python",
   "name": "python3"
  },
  "language_info": {
   "codemirror_mode": {
    "name": "ipython",
    "version": 3
   },
   "file_extension": ".py",
   "mimetype": "text/x-python",
   "name": "python",
   "nbconvert_exporter": "python",
   "pygments_lexer": "ipython3",
   "version": "3.10.9"
  }
 },
 "nbformat": 4,
 "nbformat_minor": 5
}
